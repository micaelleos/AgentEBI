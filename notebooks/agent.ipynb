{
 "cells": [
  {
   "cell_type": "code",
   "execution_count": 1,
   "metadata": {},
   "outputs": [],
   "source": [
    "import os\n",
    "import uuid\n",
    "import boto3\n",
    "from typing import List, Literal\n",
    "from pydantic import BaseModel, Field\n",
    "\n",
    "\n",
    "from langchain_openai import ChatOpenAI\n",
    "from langchain.agents import AgentExecutor\n",
    "from langchain.schema.runnable import RunnablePassthrough\n",
    "from langchain.agents.format_scratchpad import format_to_openai_functions\n",
    "from langchain.prompts import MessagesPlaceholder\n",
    "from langchain.agents.output_parsers import OpenAIFunctionsAgentOutputParser\n",
    "from langchain.memory import ConversationBufferMemory\n",
    "from langchain.tools.render import format_tool_to_openai_function \n",
    "from langchain.agents import tool\n",
    "from langchain.output_parsers.openai_functions import JsonOutputFunctionsParser\n",
    "from langchain_core.output_parsers import JsonOutputParser\n",
    "from langchain.prompts import ChatPromptTemplate\n",
    "from langchain.memory.chat_message_histories import DynamoDBChatMessageHistory\n",
    "from langchain_core.utils.function_calling import convert_to_openai_function\n",
    "from langchain_core.tools import BaseTool, Tool\n",
    "from boto3.dynamodb.conditions import Key\n",
    "\n",
    "OPENAI_API_KEY=os.environ['OPENAI_API_KEY']"
   ]
  },
  {
   "cell_type": "code",
   "execution_count": 31,
   "metadata": {},
   "outputs": [],
   "source": [
    "class ExibirEBI(BaseModel):\n",
    "    title: str = Field(description=\"Título do EBI resumido em poucas palavras\")\n",
    "    plaintext_base: str = Field(description=\"Texto base corrido, com versículos e referências\")\n",
    "    description: str = Field(description=\"10 Perguntas de observação, interpretação e aplicação, listadas em ordem numérica\")\n",
    "    footer: str = Field(description=\"Versículos de reflexão final\")"
   ]
  },
  {
   "cell_type": "code",
   "execution_count": 38,
   "metadata": {},
   "outputs": [],
   "source": [
    "@tool(args_schema=ExibirEBI)\n",
    "def exibir_ebi(**dict_info:ExibirEBI) -> dict:\n",
    "   \"\"\"Chame essa função para exibir o EBI ao usuário\"\"\"\n",
    "   print(dict_info[\"title\"])\n",
    "   print(dict_info[\"description\"])\n",
    "   print(dict_info[\"footer\"])\n",
    "   return \"exibido com sucesso\""
   ]
  },
  {
   "cell_type": "code",
   "execution_count": 41,
   "metadata": {},
   "outputs": [],
   "source": [
    "def generate_tools_for_user(session_id: str) -> List[BaseTool]:\n",
    "    \"\"\"Generate a set of tools that have a user id associated with them.\"\"\"\n",
    "\n",
    "    @tool(args_schema=ExibirEBI)\n",
    "    def exibir_ebi(**dict_info:ExibirEBI) -> dict:\n",
    "        \"\"\"Chame essa função para exibir o EBI ao usuário\"\"\"\n",
    "        dynamodb = boto3.resource('dynamodb')\n",
    "        table = dynamodb.Table('EBITable')\n",
    "        try:\n",
    "            response = table.put_item(\n",
    "                Item={'SessionId':f'{session_id}',\"title\":dict_info[\"title\"],\"base\":dict_info[\"base\"],\"description\":dict_info[\"description\"],\"footer\":dict_info[\"footer\"]})\n",
    "            return \"exibido com sucesso\"\n",
    "        except:\n",
    "            return \"aconteceu um erro ao exibir o EBI\"\n",
    "    \n",
    "    return exibir_ebi"
   ]
  },
  {
   "cell_type": "code",
   "execution_count": 18,
   "metadata": {},
   "outputs": [],
   "source": [
    "dynamodb = boto3.resource('dynamodb')\n",
    "table = dynamodb.Table('EBITable')\n",
    "response = table.put_item(Item={'SessionId':'2','title':\"dgfhg\"})"
   ]
  },
  {
   "cell_type": "code",
   "execution_count": 21,
   "metadata": {},
   "outputs": [],
   "source": [
    "id ='2'\n",
    "exibir_ebi = generate_tools_for_user(id)"
   ]
  },
  {
   "cell_type": "code",
   "execution_count": 6,
   "metadata": {},
   "outputs": [
    {
     "data": {
      "text/plain": [
       "'exibir_ebi'"
      ]
     },
     "execution_count": 6,
     "metadata": {},
     "output_type": "execute_result"
    }
   ],
   "source": [
    "exibir_ebi.name"
   ]
  },
  {
   "cell_type": "code",
   "execution_count": 7,
   "metadata": {},
   "outputs": [
    {
     "data": {
      "text/plain": [
       "'{\"title\": \"ExibirEBI\", \"type\": \"object\", \"properties\": {\"title\": {\"title\": \"Title\", \"description\": \"T\\\\u00edtulo do EBI resumido em poucas palavras\", \"type\": \"string\"}, \"base\": {\"title\": \"Base\", \"description\": \"Texto base, com vers\\\\u00edculos e refer\\\\u00eancias\", \"type\": \"string\"}, \"description\": {\"title\": \"Description\", \"description\": \"10 Perguntas de observa\\\\u00e7\\\\u00e3o, interpreta\\\\u00e7\\\\u00e3o e aplica\\\\u00e7\\\\u00e3o, listadas em ordem num\\\\u00e9rica\", \"type\": \"string\"}, \"footer\": {\"title\": \"Footer\", \"description\": \"Vers\\\\u00edculos de reflex\\\\u00e3o final\", \"type\": \"string\"}}, \"required\": [\"title\", \"base\", \"description\", \"footer\"]}'"
      ]
     },
     "execution_count": 7,
     "metadata": {},
     "output_type": "execute_result"
    }
   ],
   "source": [
    "exibir_ebi.args_schema.schema_json()"
   ]
  },
  {
   "cell_type": "code",
   "execution_count": 22,
   "metadata": {},
   "outputs": [],
   "source": [
    "model = ChatOpenAI(openai_api_key=OPENAI_API_KEY,temperature=0.5, model=\"gpt-4o\")"
   ]
  },
  {
   "cell_type": "code",
   "execution_count": 9,
   "metadata": {},
   "outputs": [
    {
     "data": {
      "text/plain": [
       "{'name': 'exibir_ebi',\n",
       " 'description': 'Chame essa função para exibir o EBI ao usuário',\n",
       " 'parameters': {'type': 'object',\n",
       "  'properties': {'title': {'description': 'Título do EBI resumido em poucas palavras',\n",
       "    'type': 'string'},\n",
       "   'base': {'description': 'Texto base, com versículos e referências',\n",
       "    'type': 'string'},\n",
       "   'description': {'description': '10 Perguntas de observação, interpretação e aplicação, listadas em ordem numérica',\n",
       "    'type': 'string'},\n",
       "   'footer': {'description': 'Versículos de reflexão final',\n",
       "    'type': 'string'}},\n",
       "  'required': ['title', 'base', 'description', 'footer']}}"
      ]
     },
     "execution_count": 9,
     "metadata": {},
     "output_type": "execute_result"
    }
   ],
   "source": [
    "convert_to_openai_function(exibir_ebi)"
   ]
  },
  {
   "cell_type": "code",
   "execution_count": 33,
   "metadata": {},
   "outputs": [],
   "source": [
    "model_with_tool = model.bind(functions=[convert_to_openai_function(exibir_ebi)])"
   ]
  },
  {
   "cell_type": "code",
   "execution_count": 34,
   "metadata": {},
   "outputs": [],
   "source": [
    "conversation_table_name = \"EBIsessionTable\"\n",
    "message_history = DynamoDBChatMessageHistory(table_name=conversation_table_name, session_id=id)\n",
    "memory= ConversationBufferMemory(return_messages=True,memory_key=\"chat_history\",chat_memory=message_history)"
   ]
  },
  {
   "cell_type": "code",
   "execution_count": 37,
   "metadata": {},
   "outputs": [],
   "source": [
    "prompt = ChatPromptTemplate.from_messages([\n",
    "    (\"system\", \"\"\" Você é um especialista em teologia e em criação de estudo bíblico indutivo.\n",
    "     Sua base bíblica é batista\n",
    "     O estudo bíblico deve ser bem completo, com texto de referência, e com no mínimo 10 perguntas (Observação, interpretação e aplicação)\n",
    "     Você cria estudo bíblicos voltados para jovens\n",
    "     O estudo blíblico deve ter o texto corrido da passagem das escrituras, na versão nvi\n",
    "     Você deve auxilixar o usuário a construir um EBI com base num texto bíblico\n",
    "     Você deve sempre exibir o estudo bíblico, por meio de \"exibir_ebi\"\n",
    "     Você não pode repetir ao usuário o EBI, apenas exiba por meio da ferramenta \"exibir_ebi\"\n",
    "     você deve colocar o trecho do texto base no EBI \n",
    "     Caso o usuário solicite mudandas no EBI você deve executá-la e sempre exibir o estudo bíblico com a modificação\n",
    "     \"\"\"),\n",
    "    MessagesPlaceholder(variable_name=\"chat_history\"),\n",
    "    (\"user\", \"{input}\"),\n",
    "    MessagesPlaceholder(variable_name=\"agent_scratchpad\")\n",
    "])"
   ]
  },
  {
   "cell_type": "code",
   "execution_count": 38,
   "metadata": {},
   "outputs": [],
   "source": [
    "agent_chain = RunnablePassthrough.assign(\n",
    "    agent_scratchpad= lambda x: format_to_openai_functions(x[\"intermediate_steps\"])\n",
    ") | prompt | model_with_tool | OpenAIFunctionsAgentOutputParser()"
   ]
  },
  {
   "cell_type": "code",
   "execution_count": 39,
   "metadata": {},
   "outputs": [],
   "source": [
    "agent_executor= AgentExecutor(agent=agent_chain, tools=[exibir_ebi], verbose=True, memory=memory)"
   ]
  },
  {
   "cell_type": "code",
   "execution_count": 40,
   "metadata": {},
   "outputs": [
    {
     "name": "stdout",
     "output_type": "stream",
     "text": [
      "\n",
      "\n",
      "\u001b[1m> Entering new AgentExecutor chain...\u001b[0m\n",
      "\u001b[32;1m\u001b[1;3m\n",
      "Invoking: `exibir_ebi` with `{'title': 'Não se Preocupe com a Vida', 'base': \"Lucas 12:22-34 (NVI)\\n22 Então Jesus disse aos seus discípulos: 'Portanto eu lhes digo: não se preocupem com a sua própria vida, quanto ao que comer; nem com o seu próprio corpo, quanto ao que vestir. 23 A vida é mais importante do que a comida, e o corpo, mais do que as roupas. 24 Observem os corvos: não semeiam nem colhem, não têm armazéns nem celeiros; contudo, Deus os alimenta. E vocês têm muito mais valor do que as aves! 25 Quem de vocês, por mais que se preocupe, pode acrescentar uma hora que seja à sua vida? 26 Visto que vocês não podem sequer fazer uma coisa tão pequena, por que se preocupar com o restante? 27 Observem como crescem os lírios. Eles não trabalham nem tecem. Contudo, eu lhes digo que nem Salomão, em todo o seu esplendor, vestiu-se como um deles. 28 Se Deus veste assim a erva do campo, que hoje existe e amanhã é lançada ao fogo, quanto mais vestirá vocês, homens de pequena fé! 29 Portanto, não busquem ansiosamente o que hão de comer ou beber; não se preocupem com isso. 30 Pois o mundo pagão é que corre atrás dessas coisas; mas o Pai sabe que vocês precisam delas. 31 Busquem, pois, o Reino de Deus, e essas coisas lhes serão acrescentadas. 32 Não tenham medo, pequeno rebanho, pois foi do agrado do Pai dar-lhes o Reino. 33 Vendam o que têm e deem aos pobres. Façam para vocês bolsas que não se gastem com o tempo, um tesouro nos céus, que não se acabe, onde ladrão algum chega perto e nenhuma traça destrói. 34 Pois onde estiver o seu tesouro, ali também estará o seu coração.'\", 'description': '1. Quais são as duas preocupações específicas que Jesus menciona no versículo 22?\\n2. O que Jesus usa como exemplos para ensinar sobre a provisão de Deus nos versículos 24 e 27?\\n3. Segundo o versículo 25, o que Jesus diz sobre a eficácia da preocupação?\\n4. O que Jesus quer dizer quando afirma que a vida é mais importante do que a comida e o corpo mais do que as roupas (versículo 23)?\\n5. Como podemos entender a comparação que Jesus faz entre os corvos e os seres humanos no versículo 24?\\n6. Qual é o significado da expressão \"homens de pequena fé\" no versículo 28?\\n7. De que maneira podemos buscar o Reino de Deus em nossas vidas diárias, conforme instruído no versículo 31?\\n8. Quais são algumas maneiras práticas de não se preocupar com o futuro, seguindo o ensinamento de Jesus?\\n9. Como podemos aplicar o princípio de \"onde estiver o seu tesouro, ali também estará o seu coração\" em nossas finanças e prioridades?\\n10. Que passos podemos tomar para confiar mais em Deus e menos em nossas próprias capacidades e recursos?', 'footer': 'Busquem, pois, em primeiro lugar o Reino de Deus e a sua justiça, e todas essas coisas lhes serão acrescentadas. - Mateus 6:33 (NVI)'}`\n",
      "\n",
      "\n",
      "\u001b[0m\u001b[36;1m\u001b[1;3mexibido com sucesso\u001b[0m\u001b[32;1m\u001b[1;3mO estudo bíblico sobre Lucas 12:22-34 foi exibido com sucesso. Se precisar de alguma modificação ou ajuste, por favor, me avise!\u001b[0m\n",
      "\n",
      "\u001b[1m> Finished chain.\u001b[0m\n"
     ]
    }
   ],
   "source": [
    "response=agent_executor.invoke({'input':\"faça um estudo bíblico sobre o texto de lucas 12\"})"
   ]
  },
  {
   "cell_type": "code",
   "execution_count": 42,
   "metadata": {},
   "outputs": [
    {
     "name": "stdout",
     "output_type": "stream",
     "text": [
      "\n",
      "\n",
      "\u001b[1m> Entering new AgentExecutor chain...\u001b[0m\n",
      "\u001b[32;1m\u001b[1;3m\n",
      "Invoking: `exibir_ebi` with `{'title': 'Não se Preocupe com a Vida', 'base': 'Lucas 12:22-34 (NVI)\\n\"22 Então Jesus disse aos seus discípulos: \\'Portanto eu lhes digo: não se preocupem com a sua própria vida, quanto ao que comer; nem com o seu próprio corpo, quanto ao que vestir. 23 A vida é mais importante do que a comida, e o corpo, mais do que as roupas. 24 Observem os corvos: não semeiam nem colhem, não têm armazéns nem celeiros; contudo, Deus os alimenta. E vocês têm muito mais valor do que as aves! 25 Quem de vocês, por mais que se preocupe, pode acrescentar uma hora que seja à sua vida? 26 Visto que vocês não podem sequer fazer uma coisa tão pequena, por que se preocupar com o restante? 27 Observem como crescem os lírios. Eles não trabalham nem tecem. Contudo, eu lhes digo que nem Salomão, em todo o seu esplendor, vestiu-se como um deles. 28 Se Deus veste assim a erva do campo, que hoje existe e amanhã é lançada ao fogo, quanto mais vestirá vocês, homens de pequena fé! 29 Portanto, não busquem ansiosamente o que hão de comer ou beber; não se preocupem com isso. 30 Pois o mundo pagão é que corre atrás dessas coisas; mas o Pai sabe que vocês precisam delas. 31 Busquem, pois, o Reino de Deus, e essas coisas lhes serão acrescentadas. 32 Não tenham medo, pequeno rebanho, pois foi do agrado do Pai dar-lhes o Reino. 33 Vendam o que têm e deem aos pobres. Façam para vocês bolsas que não se gastem com o tempo, um tesouro nos céus, que não se acabe, onde ladrão algum chega perto e nenhuma traça destrói. 34 Pois onde estiver o seu tesouro, ali também estará o seu coração.\\'\"', 'description': '1. Observação: Quais são as duas preocupações específicas que Jesus menciona no versículo 22?\\n2. Observação: O que Jesus usa como exemplos para ensinar sobre a provisão de Deus nos versículos 24 e 27?\\n3. Observação: Segundo o versículo 25, o que Jesus diz sobre a eficácia da preocupação?\\n4. Interpretação: O que Jesus quer dizer quando afirma que a vida é mais importante do que a comida e o corpo mais do que as roupas (versículo 23)?\\n5. Interpretação: O que Jesus está tentando ensinar sobre o valor dos seres humanos em comparação com os corvos no versículo 24?\\n6. Interpretação: Qual é o significado da expressão \"homens de pequena fé\" no versículo 28?\\n7. Aplicação: De que maneira podemos buscar o Reino de Deus em nossas vidas diárias, conforme instruído no versículo 31?\\n8. Aplicação: Quais são algumas maneiras práticas de não se preocupar com o futuro, seguindo o ensinamento de Jesus?\\n9. Aplicação: Como podemos aplicar o princípio de \"onde estiver o seu tesouro, ali também estará o seu coração\" em nossas finanças e prioridades?\\n10. Aplicação: Que passos podemos tomar para confiar mais em Deus e menos em nossas próprias capacidades e recursos?', 'footer': '\"Busquem, pois, em primeiro lugar o Reino de Deus e a sua justiça, e todas essas coisas lhes serão acrescentadas.\" - Mateus 6:33 (NVI)'}`\n",
      "responded: Vou refazer a pergunta 5 e exibir o estudo bíblico novamente. \n",
      "\n",
      "**Pergunta 5 (refeita):**\n",
      "\n",
      "5. **Interpretação:** O que Jesus está tentando ensinar sobre o valor dos seres humanos em comparação com os corvos no versículo 24?\n",
      "\n",
      "Agora, vou exibir o estudo bíblico com a modificação.\n",
      "\n",
      "\n",
      "\n",
      "\u001b[0m\u001b[36;1m\u001b[1;3mexibido com sucesso\u001b[0m\u001b[32;1m\u001b[1;3mO estudo bíblico foi atualizado e exibido com a modificação solicitada. Se precisar de mais alguma alteração ou tiver outra solicitação, por favor, me avise!\u001b[0m\n",
      "\n",
      "\u001b[1m> Finished chain.\u001b[0m\n"
     ]
    }
   ],
   "source": [
    "response=agent_executor.invoke({'input':\"refaça a pergunta 5\"})"
   ]
  },
  {
   "cell_type": "code",
   "execution_count": 35,
   "metadata": {},
   "outputs": [
    {
     "data": {
      "text/plain": [
       "[HumanMessage(content='faça um estudo bíblico sobre o texto de lucas 12'),\n",
       " AIMessage(content='O Estudo Bíblico Indutivo sobre Lucas 12 foi criado com sucesso. Aqui estão os detalhes:\\n\\n### Estudo Bíblico Indutivo sobre Lucas 12\\n\\n#### Texto Base\\nLucas 12:1-34 (NVI)\\n\\n\"Enquanto isso, ajuntando-se uma multidão de milhares de pessoas, a ponto de se atropelarem umas às outras, Jesus começou a falar, primeiramente aos seus discípulos, dizendo: \\'Tenham cuidado com o fermento dos fariseus, que é a hipocrisia. Não há nada escondido que não venha a ser revelado, nem oculto que não venha a se tornar conhecido. O que vocês disseram na escuridão será ouvido à luz do dia, e o que sussurraram aos ouvidos dentro de casa será proclamado dos telhados.\\'\\n\\nDigo a vocês, meus amigos: Não tenham medo dos que matam o corpo e depois nada mais podem fazer. Eu lhes mostrarei a quem vocês devem temer: Temam aquele que, depois de matar o corpo, tem poder para lançar no inferno. Sim, eu lhes digo, esse vocês devem temer. Não se vendem cinco pardais por duas moedinhas? Contudo, nenhum deles é esquecido por Deus. Até os cabelos da cabeça de vocês estão todos contados. Não tenham medo; vocês valem mais do que muitos pardais!\\n\\nDigo a vocês: Quem me confessar diante dos homens, também o Filho do homem o confessará diante dos anjos de Deus. Mas aquele que me negar diante dos homens será negado diante dos anjos de Deus. Todo aquele que disser uma palavra contra o Filho do homem será perdoado, mas quem blasfemar contra o Espírito Santo não será perdoado.\\n\\nQuando vocês forem levados às sinagogas, perante os governantes e as autoridades, não se preocupem com a forma de se defender ou com o que dizer, pois naquela hora o Espírito Santo lhes ensinará o que devem dizer.\\'\\n\\nAlguém da multidão lhe disse: \\'Mestre, dize a meu irmão que divida a herança comigo.\\' Respondeu Jesus: \\'Homem, quem me designou juiz ou árbitro entre vocês?\\' Então lhes disse: \\'Cuidado! Fiquem de sobreaviso contra todo tipo de ganância; a vida de um homem não consiste na quantidade dos seus bens.\\'\\n\\nE lhes contou esta parábola: \\'A terra de certo homem rico produziu muito bem. Ele pensou consigo mesmo: \"O que vou fazer? Não tenho onde armazenar minha colheita.\" Então disse: \"Já sei o que vou fazer. Vou derrubar os meus celeiros e construir outros maiores, e ali guardarei toda a minha safra e todos os meus bens. E direi a mim mesmo: Você tem grande quantidade de bens, armazenados para muitos anos. Descanse, coma, beba e alegre-se.\" Contudo, Deus lhe disse: \"Insensato! Esta mesma noite a sua vida lhe será exigida. Então, quem ficará com o que você preparou?\" Assim acontece com quem guarda para si riquezas, mas não é rico para com Deus.\\'\\n\\nEntão Jesus disse aos seus discípulos: \\'Portanto eu lhes digo: Não se preocupem com a sua própria vida, quanto ao que comer; nem com o seu próprio corpo, quanto ao que vestir. A vida é mais importante do que a comida, e o corpo, mais do que as roupas. Observem os corvos: não semeiam nem colhem, não têm armazéns nem celeiros; contudo, Deus os alimenta. E vocês têm muito mais valor do que as aves! Quem de vocês, por mais que se preocupe, pode acrescentar uma hora que seja à sua vida? Visto que vocês não podem sequer fazer uma coisa tão pequena, por que se preocupar com o restante?\\n\\nObservem como crescem os lírios. Eles não trabalham nem tecem. Contudo, eu lhes digo que nem Salomão, em todo o seu esplendor, vestiu-se como um deles. Se Deus veste assim a erva do campo, que hoje existe e amanhã é lançada ao fogo, quanto mais vestirá vocês, homens de pequena fé! Não busquem ansiosamente o que hão de comer ou beber; não se preocupem com isso. Pois o mundo pagão é que corre atrás dessas coisas; mas o Pai sabe que vocês precisam delas. Busquem, pois, o Reino de Deus, e essas coisas lhes serão acrescentadas.\\n\\nNão tenham medo, pequeno rebanho, pois foi do agrado do Pai dar-lhes o Reino. Vendam o que têm e deem esmolas. Façam para vocês bolsas que não se gastem com o tempo, um tesouro nos céus que não se acabe, onde ladrão algum chega perto e nenhuma traça destrói. Pois onde estiver o seu tesouro, ali também estará o seu coração.\\'\"\\n\\n#### Perguntas de Observação, Interpretação e Aplicação\\n\\n1. **Observação:** Quem é o público-alvo inicial da mensagem de Jesus em Lucas 12:1?\\n2. **Observação:** O que Jesus alerta sobre o \"fermento dos fariseus\"?\\n3. **Observação:** Segundo Jesus, quem devemos temer e por quê?\\n4. **Observação:** Qual é a promessa de Jesus para aqueles que confessam seu nome diante dos homens?\\n5. **Interpretação:** O que significa a parábola do homem rico e seus celeiros?\\n6. **Interpretação:** Como a ansiedade é retratada por Jesus nos versículos 22-31?\\n7. **Interpretação:** O que Jesus quer dizer com \"Busquem, pois, o Reino de Deus, e essas coisas lhes serão acrescentadas\"?\\n8. **Aplicação:** Como podemos aplicar o ensinamento de não nos preocuparmos com nossas necessidades diárias na vida moderna?\\n9. **Aplicação:** De que maneira podemos \"fazer bolsas que não se gastem com o tempo\" em nossa vida cotidiana?\\n10. **Aplicação:** Onde está o seu tesouro hoje, e como isso reflete no seu coração?\\n\\n#### Versículos de Reflexão Final\\nLucas 12:31-32 (NVI)\\n\\n\"Busquem, pois, o Reino de Deus, e essas coisas lhes serão acrescentadas. Não tenham medo, pequeno rebanho, pois foi do agrado do Pai dar-lhes o Reino.\"\\n\\nSe precisar de alguma modificação ou tiver alguma dúvida, estou à disposição!')]"
      ]
     },
     "execution_count": 35,
     "metadata": {},
     "output_type": "execute_result"
    }
   ],
   "source": [
    "agent_executor.memory.chat_memory.messages"
   ]
  }
 ],
 "metadata": {
  "kernelspec": {
   "display_name": "myenv",
   "language": "python",
   "name": "python3"
  },
  "language_info": {
   "codemirror_mode": {
    "name": "ipython",
    "version": 3
   },
   "file_extension": ".py",
   "mimetype": "text/x-python",
   "name": "python",
   "nbconvert_exporter": "python",
   "pygments_lexer": "ipython3",
   "version": "3.11.3"
  }
 },
 "nbformat": 4,
 "nbformat_minor": 2
}
